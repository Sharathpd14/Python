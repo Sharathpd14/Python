{
 "cells": [
  {
   "cell_type": "code",
   "execution_count": 1,
   "metadata": {},
   "outputs": [
    {
     "name": "stdout",
     "output_type": "stream",
     "text": [
      "Value is 1\n",
      "Value is 2\n",
      "Value is 3\n",
      "Value is 4\n",
      "Value is 5\n",
      "Value is Sharath\n",
      "Value is Aslam\n",
      "name is Aslam\n",
      "RollNo is 21\n",
      "Address is Chikkamgalore\n"
     ]
    }
   ],
   "source": [
    "### Positional and Keyword arguments\n",
    "\n",
    "def PandK(*args,**kwargs):\n",
    "    for P in args:\n",
    "        print(f\"Value is {P}\")\n",
    "    for i,j in kwargs.items():\n",
    "        print(f\"{i} is {j}\")\n",
    "        \n",
    "PandK(1,2,3,4,5,\"Sharath\",\"Aslam\",name=\"Aslam\",RollNo=21,Address=\"Chikkamgalore\")"
   ]
  },
  {
   "cell_type": "code",
   "execution_count": null,
   "metadata": {},
   "outputs": [],
   "source": []
  }
 ],
 "metadata": {
  "kernelspec": {
   "display_name": "base",
   "language": "python",
   "name": "python3"
  },
  "language_info": {
   "codemirror_mode": {
    "name": "ipython",
    "version": 3
   },
   "file_extension": ".py",
   "mimetype": "text/x-python",
   "name": "python",
   "nbconvert_exporter": "python",
   "pygments_lexer": "ipython3",
   "version": "3.10.14"
  }
 },
 "nbformat": 4,
 "nbformat_minor": 2
}
