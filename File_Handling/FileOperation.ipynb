{
 "cells": [
  {
   "cell_type": "code",
   "execution_count": 2,
   "metadata": {},
   "outputs": [
    {
     "name": "stdout",
     "output_type": "stream",
     "text": [
      "Hello, How are You\n",
      "I'm Aslam \n",
      "I'm Welcoming you to my program Sharath\n"
     ]
    }
   ],
   "source": [
    "## Read whole file\n",
    "\n",
    "with open(\"example.txt\",\"r\") as file:\n",
    "    content = file.read()\n",
    "    print(content) "
   ]
  },
  {
   "cell_type": "code",
   "execution_count": 5,
   "metadata": {},
   "outputs": [
    {
     "name": "stdout",
     "output_type": "stream",
     "text": [
      "Hello, How are You\n",
      "I'm Aslam\n",
      "I'm Welcoming you to my program Sharath\n"
     ]
    }
   ],
   "source": [
    "## Read file line by line\n",
    "with open(\"example.txt\",\"r\") as file:\n",
    "    for line in file:\n",
    "        print(line.strip())  # .strip() -> Removes new line character"
   ]
  },
  {
   "cell_type": "code",
   "execution_count": 6,
   "metadata": {},
   "outputs": [],
   "source": [
    "## Writing a file(Overwriting)\n",
    "\n",
    "with open(\"example.txt\",\"w\") as file:\n",
    "    file.write(\"This is added later\\n\")\n",
    "    file.write(\"The content is overwritten\")"
   ]
  },
  {
   "cell_type": "code",
   "execution_count": 9,
   "metadata": {},
   "outputs": [],
   "source": [
    "## write a file without overwriting\n",
    "\n",
    "with open(\"example.txt\",\"a\") as file:\n",
    "    file.write(\"\\nThis is added again\\n\")\n",
    "    file.write(\"The content is not overwritten\")"
   ]
  },
  {
   "cell_type": "code",
   "execution_count": 10,
   "metadata": {},
   "outputs": [],
   "source": [
    "# writing a list of files\n",
    "lines = [\"First line \\n\",\"Second line \\n\",\"Third line \\n\"]\n",
    "\n",
    "with open(\"example.txt\",\"a\") as file:\n",
    "    file.writelines(lines)"
   ]
  },
  {
   "cell_type": "code",
   "execution_count": 11,
   "metadata": {},
   "outputs": [],
   "source": [
    "## Binary Files\n",
    "data = b\"\\x00\\x01\\x02\\x03\\x04\"\n",
    "with open(\"example.bin\",\"wb\") as file:\n",
    "    file.write(data)  # form of bytes"
   ]
  },
  {
   "cell_type": "code",
   "execution_count": 12,
   "metadata": {},
   "outputs": [
    {
     "name": "stdout",
     "output_type": "stream",
     "text": [
      "b'\\x00\\x01\\x02\\x03\\x04'\n"
     ]
    }
   ],
   "source": [
    "with open(\"example.bin\",\"rb\") as file:\n",
    "    data = file.read()\n",
    "    print(data)"
   ]
  },
  {
   "cell_type": "code",
   "execution_count": 13,
   "metadata": {},
   "outputs": [],
   "source": [
    "# Read the content source text file write it into the destination text file\n",
    "\n",
    "with open(\"example.txt\",\"r\") as source_file:\n",
    "    content = source_file.read()\n",
    "    \n",
    "with open(\"destination.txt\",\"w\") as dest_file:\n",
    "    dest_file.write(content)"
   ]
  },
  {
   "cell_type": "code",
   "execution_count": 18,
   "metadata": {},
   "outputs": [
    {
     "name": "stdout",
     "output_type": "stream",
     "text": [
      "Number of lines are  9\n",
      "Number of words are  32\n",
      "Number of characters are 186\n"
     ]
    }
   ],
   "source": [
    "## Read a text file and count the number of lines words and characters.\n",
    "\n",
    "\n",
    "with open(\"example.txt\",\"r\") as file:\n",
    "    data = file.readlines()\n",
    "    print(\"Number of lines are \",len(data))\n",
    "    word_count = sum(len(line.split()) for line in data)\n",
    "    character_count = sum(len(line) for line in data)\n",
    "    print(\"Number of words are \",word_count)\n",
    "    print(\"Number of characters are\",character_count)"
   ]
  },
  {
   "cell_type": "code",
   "execution_count": 20,
   "metadata": {},
   "outputs": [
    {
     "name": "stdout",
     "output_type": "stream",
     "text": [
      "Hello World\n",
      "This is new line\n",
      "\n"
     ]
    }
   ],
   "source": [
    "## Writing and reading file\n",
    "\n",
    "with open(\"example.txt\",\"w+\") as file:\n",
    "    file.write(\"Hello World\\n\")\n",
    "    file.write(\"This is new line\\n\")\n",
    "    \n",
    "    ## Move the file cursor to the begining\n",
    "    file.seek(0)\n",
    "    \n",
    "    # Now can read content of the file\n",
    "    data = file.read(\\   \n",
    "    )               # \"\\\" defines continuation of program\n",
    "    print(data)"
   ]
  },
  {
   "cell_type": "code",
   "execution_count": 21,
   "metadata": {},
   "outputs": [
    {
     "name": "stdout",
     "output_type": "stream",
     "text": [
      "Directory package created\n"
     ]
    }
   ],
   "source": [
    "# Create a new directory\n",
    "import os\n",
    "new_dir = \"package\"\n",
    "\n",
    "os.mkdir(new_dir)\n",
    "print(f\"Directory {new_dir} created\")"
   ]
  },
  {
   "cell_type": "code",
   "execution_count": 22,
   "metadata": {},
   "outputs": [
    {
     "name": "stdout",
     "output_type": "stream",
     "text": [
      "['destination.txt', 'example.bin', 'example.txt', 'FileOperation.ipynb', 'package']\n"
     ]
    }
   ],
   "source": [
    "# Listing all files and directries\n",
    "\n",
    "items = os.listdir(\".\")\n",
    "print(items)"
   ]
  },
  {
   "cell_type": "code",
   "execution_count": 23,
   "metadata": {},
   "outputs": [
    {
     "name": "stdout",
     "output_type": "stream",
     "text": [
      "folder\\file.txt\n"
     ]
    }
   ],
   "source": [
    "### Joining Paths\n",
    "\n",
    "dir_name = \"folder\"\n",
    "file_name = \"file.txt\"\n",
    "\n",
    "full_path = os.path.join(dir_name,file_name)\n",
    "\n",
    "print(full_path)"
   ]
  },
  {
   "cell_type": "code",
   "execution_count": 24,
   "metadata": {},
   "outputs": [
    {
     "name": "stdout",
     "output_type": "stream",
     "text": [
      "c:\\GenAI\\Python\\File_Handling\\folder\\file.txt\n"
     ]
    }
   ],
   "source": [
    "dir_name = \"folder\"\n",
    "file_name = \"file.txt\"\n",
    "\n",
    "full_path = os.path.join(os.getcwd(),dir_name,file_name)\n",
    "\n",
    "print(full_path)"
   ]
  },
  {
   "cell_type": "code",
   "execution_count": 25,
   "metadata": {},
   "outputs": [
    {
     "name": "stdout",
     "output_type": "stream",
     "text": [
      "The example1.txt does not exists\n"
     ]
    }
   ],
   "source": [
    "path = \"example1.txt\"\n",
    "\n",
    "if os.path.exists(path):\n",
    "    print(\"Path is Exists\")\n",
    "else:\n",
    "    print(f\"The {path} does not exists\")"
   ]
  },
  {
   "cell_type": "code",
   "execution_count": 26,
   "metadata": {},
   "outputs": [
    {
     "name": "stdout",
     "output_type": "stream",
     "text": [
      "example.txt is a file\n"
     ]
    }
   ],
   "source": [
    "## Checking if a path is a file or directory\n",
    "\n",
    "import os\n",
    "path = \"example.txt\"\n",
    "if os.path.isfile(path):\n",
    "    print(f\"{path} is a file\")\n",
    "elif os.path.isdir(path):\n",
    "    print(f\"{path} is a directory\")\n",
    "else:\n",
    "    print(f\"{path} is neither a file nor a directory\")\n",
    "    \n",
    "\n"
   ]
  },
  {
   "cell_type": "code",
   "execution_count": 27,
   "metadata": {},
   "outputs": [
    {
     "name": "stdout",
     "output_type": "stream",
     "text": [
      "c:\\GenAI\\Python\\File_Handling\\example.txt\n"
     ]
    }
   ],
   "source": [
    "# Get absolute path\n",
    "\n",
    "absPath = os.path.abspath(path)\n",
    "print(absPath)"
   ]
  },
  {
   "cell_type": "code",
   "execution_count": null,
   "metadata": {},
   "outputs": [],
   "source": []
  },
  {
   "cell_type": "code",
   "execution_count": null,
   "metadata": {},
   "outputs": [],
   "source": [
    "## write a file without overwriting\n",
    "\n",
    "with open(\"example.txt\",\"a\") as file:\n",
    "    file.write(\"\\nThis is added again\\n\")\n",
    "    file.write(\"The content is not overwritten\")"
   ]
  }
 ],
 "metadata": {
  "kernelspec": {
   "display_name": "Python 3",
   "language": "python",
   "name": "python3"
  },
  "language_info": {
   "codemirror_mode": {
    "name": "ipython",
    "version": 3
   },
   "file_extension": ".py",
   "mimetype": "text/x-python",
   "name": "python",
   "nbconvert_exporter": "python",
   "pygments_lexer": "ipython3",
   "version": "3.10.14"
  }
 },
 "nbformat": 4,
 "nbformat_minor": 2
}
